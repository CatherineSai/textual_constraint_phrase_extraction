{
 "cells": [
  {
   "cell_type": "code",
   "execution_count": 9,
   "metadata": {},
   "outputs": [],
   "source": [
    "import xlrd\n",
    "\n",
    "wb = xlrd.open_workbook(\"input/gs_88_reg.xls\")\n",
    "sh = wb.sheet_by_index(0)\n",
    "file_count = 0\n",
    "\n",
    "for row in sh.get_rows():\n",
    "    text = row[0].value\n",
    "    file = open('reg_{}.txt'.format(file_count), \"w\")\n",
    "    file.write(text)\n",
    "    file.close()\n",
    "    file_count += 1\n"
   ]
  }
 ],
 "metadata": {
  "interpreter": {
   "hash": "6109dc3587f60cf2185eac5e585a05c4e292fdb96d11d60d0940b6b3d77faadb"
  },
  "kernelspec": {
   "display_name": "Python 3.10.7 ('.elsa_fernanda_venv': venv)",
   "language": "python",
   "name": "python3"
  },
  "language_info": {
   "codemirror_mode": {
    "name": "ipython",
    "version": 3
   },
   "file_extension": ".py",
   "mimetype": "text/x-python",
   "name": "python",
   "nbconvert_exporter": "python",
   "pygments_lexer": "ipython3",
   "version": "3.10.7"
  },
  "orig_nbformat": 4
 },
 "nbformat": 4,
 "nbformat_minor": 2
}
